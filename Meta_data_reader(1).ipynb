{
 "cells": [
  {
   "cell_type": "markdown",
   "id": "c09ef8ec-a2cf-4100-a2e0-74b816d1a0e2",
   "metadata": {},
   "source": [
    "Meta_Data_Reader"
   ]
  },
  {
   "cell_type": "code",
   "execution_count": 11,
   "id": "6151d5b5-34eb-4dee-b915-e5bf4bed242a",
   "metadata": {},
   "outputs": [
    {
     "name": "stdout",
     "output_type": "stream",
     "text": [
      "The autoreload extension is already loaded. To reload it, use:\n",
      "  %reload_ext autoreload\n"
     ]
    },
    {
     "data": {
      "application/vnd.jupyter.widget-view+json": {
       "model_id": "a4dfc935751642d5b5d5428b94d45194",
       "version_major": 2,
       "version_minor": 0
      },
      "text/plain": [
       "Text(value='', description='File Path:', layout=Layout(width='80%'), placeholder='Enter the file path of the H…"
      ]
     },
     "metadata": {},
     "output_type": "display_data"
    },
    {
     "data": {
      "application/vnd.jupyter.widget-view+json": {
       "model_id": "11ede50ecf374fd99aedd183ec845d22",
       "version_major": 2,
       "version_minor": 0
      },
      "text/plain": [
       "Button(description='Load Metadata', style=ButtonStyle())"
      ]
     },
     "metadata": {},
     "output_type": "display_data"
    },
    {
     "data": {
      "application/vnd.jupyter.widget-view+json": {
       "model_id": "12d72f74848b4954a1500a8eba74c9f3",
       "version_major": 2,
       "version_minor": 0
      },
      "text/plain": [
       "Output()"
      ]
     },
     "metadata": {},
     "output_type": "display_data"
    }
   ],
   "source": [
    "# Import necessary libraries\n",
    "%matplotlib widget\n",
    "%load_ext autoreload\n",
    "%autoreload 2\n",
    "\n",
    "import h5py\n",
    "import os\n",
    "import ipywidgets as widgets\n",
    "from IPython.display import display, clear_output\n",
    "\n",
    "# Function to read and display metadata\n",
    "def read_metadata(file_path):\n",
    "    if not os.path.exists(file_path):\n",
    "        return f\"Error: File does not exist at {file_path}\"\n",
    "    \n",
    "    try:\n",
    "        with h5py.File(file_path, 'r') as f:\n",
    "            metadata = {\n",
    "                'Spot Size': f['metadata']['spot_size'][()],\n",
    "                'Step Size (Å)': f['metadata']['step_size(m)'][()] / 1e-10,\n",
    "                'Convergence Semi-Angle (rad)': f['metadata']['convergence_semi-angle(rad)'][()],\n",
    "                'Camera Length (m)': f['metadata']['merlin_camera_length(m)'][()],\n",
    "                'Magnification': f['metadata']['magnification'][()],\n",
    "                'High Tension Value (V)': f['metadata']['ht_value(V)'][()],\n",
    "                'Defocus (nm)': f['metadata']['defocus(nm)'][()]\n",
    "            }\n",
    "    except KeyError as e:\n",
    "        return f\"Metadata key not found: {e}\"\n",
    "    except OSError as e:\n",
    "        return f\"Could not open file: {e}\"\n",
    "    except Exception as e:\n",
    "        return f\"An unexpected error occurred: {e}\"\n",
    "    \n",
    "    return metadata\n",
    "\n",
    "# Function to handle the button click\n",
    "def on_button_click(b):\n",
    "    # Clear previous output\n",
    "    clear_output(wait=True)\n",
    "    display(file_path_text, load_button, output_area)\n",
    "    \n",
    "    # Read metadata from the entered file path\n",
    "    file_path = file_path_text.value.strip()\n",
    "    if not file_path:\n",
    "        with output_area:\n",
    "            clear_output()\n",
    "            print(\"Error: File path cannot be empty. Please enter a valid file path.\")\n",
    "        return\n",
    "    \n",
    "    metadata = read_metadata(file_path)\n",
    "    \n",
    "    # Display metadata in output area\n",
    "    with output_area:\n",
    "        clear_output()\n",
    "        if isinstance(metadata, dict):\n",
    "            print(\"Extracted Metadata:\")\n",
    "            for key, value in metadata.items():\n",
    "                print(f\"{key}: {value}\")\n",
    "        else:\n",
    "            print(metadata)  # Print error message if it's not a dictionary\n",
    "\n",
    "# Create text input for file path and button to load metadata\n",
    "file_path_text = widgets.Text(\n",
    "    value='',\n",
    "    placeholder='Enter the file path of the HDF file',\n",
    "    description='File Path:',\n",
    "    layout=widgets.Layout(width='80%')\n",
    ")\n",
    "load_button = widgets.Button(description=\"Load Metadata\")\n",
    "\n",
    "# Create an output area to show metadata\n",
    "output_area = widgets.Output()\n",
    "\n",
    "# Set up the button click event\n",
    "load_button.on_click(on_button_click)\n",
    "\n",
    "# Display the widgets\n",
    "display(file_path_text, load_button, output_area)\n"
   ]
  },
  {
   "cell_type": "markdown",
   "id": "ff6adc0a-b7d7-45ee-92a8-cc3f3133c4cf",
   "metadata": {},
   "source": [
    "Probe Diamter calculator"
   ]
  },
  {
   "cell_type": "code",
   "execution_count": 12,
   "id": "40c70224-1e55-499f-b220-716435749d49",
   "metadata": {},
   "outputs": [
    {
     "data": {
      "application/vnd.jupyter.widget-view+json": {
       "model_id": "c3977b2473ff409ba3f893d4626bbcac",
       "version_major": 2,
       "version_minor": 0
      },
      "text/plain": [
       "VBox(children=(Label(value='Calculating %overlap'), HBox(children=(FloatSlider(value=10.0, description='Step s…"
      ]
     },
     "metadata": {},
     "output_type": "display_data"
    }
   ],
   "source": [
    "import ipywidgets as widgets\n",
    "from ipywidgets import VBox, HBox, Label, Output\n",
    "import math\n",
    "\n",
    "# Function for Equation 1: Overlap %\n",
    "def calculate_overlap_percent(step_size, probe_diameter):\n",
    "    try:\n",
    "        overlap = (1 - (step_size / probe_diameter)) * 100\n",
    "        return f\"Overlap %: {overlap:.2f}%\"\n",
    "    except ZeroDivisionError:\n",
    "        return \"Error: Probe diameter must not be 0.\"\n",
    "\n",
    "# Function for Equation 2: Step size (nm)\n",
    "def calculate_step_size(overlap_percent, probe_diameter):\n",
    "    try:\n",
    "        step_size = (1 - (overlap_percent / 100)) * probe_diameter\n",
    "        return f\"Step size: {step_size:.2f} nm\"\n",
    "    except ZeroDivisionError:\n",
    "        return \"Error: Probe diameter must not be 0.\"\n",
    "\n",
    "# Function for Equation 3: Probe diameter (nm)\n",
    "def calculate_probe_diameter_from_overlap(step_size, overlap_percent):\n",
    "    try:\n",
    "        probe_diameter = step_size / (1 - (overlap_percent / 100))\n",
    "        return f\"Probe diameter: {probe_diameter:.2f} nm\"\n",
    "    except ZeroDivisionError:\n",
    "        return \"Error: Overlap (%) must not be 100%.\"\n",
    "\n",
    "# Function for Equation 4: Probe diameter from convergence angle\n",
    "def calculate_probe_diameter_from_convergence(convergence_angle):\n",
    "    try:\n",
    "        ans = (convergence_angle / 1000) / (math.pi / 180)\n",
    "        probe_diameter = 2 * math.tan(math.radians(ans)) * 100\n",
    "        return f\"Probe diameter: {probe_diameter:.2f} nm\"\n",
    "    except Exception as e:\n",
    "        return f\"Error: {e}\"\n",
    "\n",
    "# Interactive Widgets\n",
    "# Widgets for Equations 1-3\n",
    "step_size_slider = widgets.FloatSlider(value=10.0, min=0.1, max=100.0, step=0.1, description=\"Step size (nm):\")\n",
    "probe_diameter_slider = widgets.FloatSlider(value=50.0, min=0.1, max=200.0, step=0.1, description=\"Probe dia. (nm):\")\n",
    "overlap_percent_slider = widgets.FloatSlider(value=50.0, min=0.0, max=99.9, step=0.1, description=\"Overlap (%):\")\n",
    "\n",
    "# Widget for Equation 4\n",
    "convergence_angle_slider = widgets.FloatSlider(value=25.0, min=0.1, max=50.0, step=0.1, description=\"Conv. angle (mrad):\")\n",
    "\n",
    "# Outputs\n",
    "output_eq1 = Output()\n",
    "output_eq2 = Output()\n",
    "output_eq3 = Output()\n",
    "output_eq4 = Output()\n",
    "\n",
    "# Update Functions\n",
    "def update_eq1(change):\n",
    "    with output_eq1:\n",
    "        output_eq1.clear_output()\n",
    "        result = calculate_overlap_percent(step_size_slider.value, probe_diameter_slider.value)\n",
    "        print(result)\n",
    "\n",
    "def update_eq2(change):\n",
    "    with output_eq2:\n",
    "        output_eq2.clear_output()\n",
    "        result = calculate_step_size(overlap_percent_slider.value, probe_diameter_slider.value)\n",
    "        print(result)\n",
    "\n",
    "def update_eq3(change):\n",
    "    with output_eq3:\n",
    "        output_eq3.clear_output()\n",
    "        result = calculate_probe_diameter_from_overlap(step_size_slider.value, overlap_percent_slider.value)\n",
    "        print(result)\n",
    "\n",
    "def update_eq4(change):\n",
    "    with output_eq4:\n",
    "        output_eq4.clear_output()\n",
    "        result = calculate_probe_diameter_from_convergence(convergence_angle_slider.value)\n",
    "        print(result)\n",
    "\n",
    "# Link widgets to updates\n",
    "for widget in [step_size_slider, probe_diameter_slider]:\n",
    "    widget.observe(update_eq1, names='value')\n",
    "    widget.observe(update_eq3, names='value')\n",
    "\n",
    "overlap_percent_slider.observe(update_eq2, names='value')\n",
    "overlap_percent_slider.observe(update_eq3, names='value')\n",
    "\n",
    "convergence_angle_slider.observe(update_eq4, names='value')\n",
    "\n",
    "# Initial Calculation\n",
    "update_eq1(None)\n",
    "update_eq2(None)\n",
    "update_eq3(None)\n",
    "update_eq4(None)\n",
    "\n",
    "# Display\n",
    "display(VBox([\n",
    "    Label(\"Calculating %overlap\"),\n",
    "    HBox([step_size_slider, probe_diameter_slider]),\n",
    "    output_eq1,\n",
    "    Label(\"Calculating step size\"),\n",
    "    HBox([overlap_percent_slider, probe_diameter_slider]),\n",
    "    output_eq2,\n",
    "    Label(\"Calculating probe diamter\"),\n",
    "    HBox([step_size_slider, overlap_percent_slider]),\n",
    "    output_eq3,\n",
    "    Label(\"Probe diamter from geometry\"),\n",
    "    convergence_angle_slider,\n",
    "    output_eq4,\n",
    "]))\n"
   ]
  },
  {
   "cell_type": "code",
   "execution_count": null,
   "id": "f9ceddd6-3e33-4dec-821d-7288bcf3fdf1",
   "metadata": {},
   "outputs": [],
   "source": []
  }
 ],
 "metadata": {
  "kernelspec": {
   "display_name": "Python 3.10 - EPSIC [DLS Conda]",
   "language": "python",
   "name": "conda-env-DLS_Conda-epsic3.10-kernel.json"
  },
  "language_info": {
   "codemirror_mode": {
    "name": "ipython",
    "version": 3
   },
   "file_extension": ".py",
   "mimetype": "text/x-python",
   "name": "python",
   "nbconvert_exporter": "python",
   "pygments_lexer": "ipython3",
   "version": "3.10.13"
  }
 },
 "nbformat": 4,
 "nbformat_minor": 5
}
