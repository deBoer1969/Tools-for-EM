{
 "cells": [
  {
   "cell_type": "markdown",
   "id": "9c18488f-da49-4551-8a16-834e9e81f4f1",
   "metadata": {},
   "source": [
    "Original fluence calculator assuming single frame"
   ]
  },
  {
   "cell_type": "code",
   "execution_count": null,
   "id": "cde16d31-40a0-42b2-896b-6795833b612d",
   "metadata": {},
   "outputs": [
    {
     "name": "stdout",
     "output_type": "stream",
     "text": [
      "Welcome to the Electron Fluence Calculator!\n"
     ]
    }
   ],
   "source": [
    "def calculate_fluence(current, current_unit, scan_area, scan_time):\n",
    "    \"\"\"\n",
    "    Calculate the electron fluence given the current, current unit, scan area, and scan time.\n",
    "    \n",
    "    Parameters:\n",
    "    - current (float): The screen current in nA or pA.\n",
    "    - current_unit (str): The unit of current ('nA' or 'pA').\n",
    "    - scan_area (float): The area of the scan in angstroms squared (Å²).\n",
    "    - scan_time (float): The scan time in seconds.\n",
    "    \n",
    "    Returns:\n",
    "    - fluence (float): The calculated electron fluence in electrons per square angstrom (e⁻/Å²).\n",
    "    \"\"\"\n",
    "    \n",
    "    # Convert current to Amps\n",
    "    if current_unit == 'nA':\n",
    "        current_in_amps = current * 1e-9\n",
    "    elif current_unit == 'pA':\n",
    "        current_in_amps = current * 1e-12\n",
    "    else:\n",
    "        raise ValueError(\"Current unit must be 'nA' or 'pA'\")\n",
    "    \n",
    "    # Charge of one electron in Coulombs (C)\n",
    "    e = 1.602e-19\n",
    "    \n",
    "    # Calculate number of electrons per second\n",
    "    electrons_per_second = current_in_amps / e\n",
    "    \n",
    "    # Calculate the number of electrons over the scan time\n",
    "    total_electrons = electrons_per_second * scan_time\n",
    "    \n",
    "    # Calculate the fluence\n",
    "    fluence = total_electrons / scan_area  # Scan area in angstroms squared\n",
    "    \n",
    "    return fluence\n",
    "\n",
    "# Main function to interact with the user and calculate fluence\n",
    "def electron_fluence_calculator():\n",
    "    print(\"Welcome to the Electron Fluence Calculator!\")\n",
    "    \n",
    "    # Get user inputs\n",
    "    current = float(input(\"Enter the screen current (in nA or pA): \"))\n",
    "    current_unit = input(\"Enter the current unit (nA or pA): \").strip()\n",
    "    scan_area = float(input(\"Enter the scan area in angstroms squared (Å²): \"))\n",
    "    scan_time = float(input(\"Enter the scan time in seconds: \"))\n",
    "    \n",
    "    # Calculate fluence\n",
    "    fluence = calculate_fluence(current, current_unit, scan_area, scan_time)\n",
    "    \n",
    "    # Output the result\n",
    "    print(f\"\\nThe electron fluence is: {fluence:.2e} electrons per square angstrom (e⁻/Å²)\")\n",
    "    \n",
    "# Run the calculator\n",
    "if __name__ == \"__main__\":\n",
    "    electron_fluence_calculator()\n",
    "\n",
    "\n"
   ]
  },
  {
   "cell_type": "markdown",
   "id": "89ad50f2-c346-4a3d-a287-36ccec111a0a",
   "metadata": {},
   "source": [
    "Same Calculator but with additional scans included."
   ]
  },
  {
   "cell_type": "code",
   "execution_count": 2,
   "id": "86531fe8-930d-404e-80e4-a325807f931b",
   "metadata": {},
   "outputs": [
    {
     "name": "stdout",
     "output_type": "stream",
     "text": [
      "Welcome to the Electron Fluence Calculator!\n"
     ]
    },
    {
     "name": "stdin",
     "output_type": "stream",
     "text": [
      "Enter the screen current (in nA or pA):  0.21\n",
      "Enter the current unit (nA or pA):  nA\n",
      "Enter the scan area in angstroms squared (Å²):  2755600\n",
      "Enter the scan time in seconds:  11.52\n",
      "Enter the number of scans:  2\n"
     ]
    },
    {
     "name": "stdout",
     "output_type": "stream",
     "text": [
      "\n",
      "The total electron fluence for 2 scans is: 1.10e+04 electrons per square angstrom (e⁻/Å²)\n"
     ]
    }
   ],
   "source": [
    "def calculate_fluence(current, current_unit, scan_area, scan_time):\n",
    "    \"\"\"\n",
    "    Calculate the electron fluence given the current, current unit, scan area, and scan time.\n",
    "    \n",
    "    Parameters:\n",
    "    - current (float): The screen current in nA or pA.\n",
    "    - current_unit (str): The unit of current ('nA' or 'pA').\n",
    "    - scan_area (float): The area of the scan in angstroms squared (Å²).\n",
    "    - scan_time (float): The scan time in seconds.\n",
    "    \n",
    "    Returns:\n",
    "    - fluence (float): The calculated electron fluence in electrons per square angstrom (e⁻/Å²).\n",
    "    \"\"\"\n",
    "    \n",
    "    # Convert current to Amps\n",
    "    if current_unit == 'nA':\n",
    "        current_in_amps = current * 1e-9\n",
    "    elif current_unit == 'pA':\n",
    "        current_in_amps = current * 1e-12\n",
    "    else:\n",
    "        raise ValueError(\"Current unit must be 'nA' or 'pA'\")\n",
    "    \n",
    "    # Charge of one electron in Coulombs (C)\n",
    "    e = 1.602e-19\n",
    "    \n",
    "    # Calculate number of electrons per second\n",
    "    electrons_per_second = current_in_amps / e\n",
    "    \n",
    "    # Calculate the number of electrons over the scan time\n",
    "    total_electrons = electrons_per_second * scan_time\n",
    "    \n",
    "    # Calculate the fluence\n",
    "    fluence = total_electrons / scan_area  # Scan area in angstroms squared\n",
    "    \n",
    "    return fluence\n",
    "\n",
    "def calculate_fluence_for_scans(current, current_unit, scan_area, scan_time, num_scans):\n",
    "    \"\"\"\n",
    "    Calculate the total electron fluence considering multiple scans.\n",
    "    \n",
    "    Parameters:\n",
    "    - current (float): The screen current in nA or pA.\n",
    "    - current_unit (str): The unit of current ('nA' or 'pA').\n",
    "    - scan_area (float): The area of the scan in angstroms squared (Å²).\n",
    "    - scan_time (float): The scan time in seconds.\n",
    "    - num_scans (int): The total number of scans (repetitions).\n",
    "    \n",
    "    Returns:\n",
    "    - total_fluence (float): The total electron fluence considering the number of scans.\n",
    "    \"\"\"\n",
    "    # Calculate the fluence for a single scan\n",
    "    fluence_per_scan = calculate_fluence(current, current_unit, scan_area, scan_time)\n",
    "    \n",
    "    # Multiply by the number of scans\n",
    "    total_fluence = fluence_per_scan * num_scans\n",
    "    \n",
    "    return total_fluence\n",
    "\n",
    "# Main function to interact with the user and calculate fluence\n",
    "def electron_fluence_calculator():\n",
    "    print(\"Welcome to the Electron Fluence Calculator!\")\n",
    "    \n",
    "    # Get user inputs\n",
    "    current = float(input(\"Enter the screen current (in nA or pA): \"))\n",
    "    current_unit = input(\"Enter the current unit (nA or pA): \").strip()\n",
    "    scan_area = float(input(\"Enter the scan area in angstroms squared (Å²): \"))\n",
    "    scan_time = float(input(\"Enter the scan time in seconds: \"))\n",
    "    num_scans = int(input(\"Enter the number of scans: \"))\n",
    "    \n",
    "    # Calculate total fluence considering multiple scans\n",
    "    total_fluence = calculate_fluence_for_scans(current, current_unit, scan_area, scan_time, num_scans)\n",
    "    \n",
    "    # Output the result\n",
    "    print(f\"\\nThe total electron fluence for {num_scans} scans is: {total_fluence:.2e} electrons per square angstrom (e⁻/Å²)\")\n",
    "\n",
    "# Run the calculator\n",
    "if __name__ == \"__main__\":\n",
    "    electron_fluence_calculator()\n"
   ]
  },
  {
   "cell_type": "markdown",
   "id": "d8291efa-a44b-4b8b-9e3f-9d4a9dad1200",
   "metadata": {},
   "source": [
    "Calculate the desired flux for known fluence requirments"
   ]
  },
  {
   "cell_type": "code",
   "execution_count": 5,
   "id": "dc14d52b-9aa5-4eb2-a7d8-b1a4463ed2b6",
   "metadata": {},
   "outputs": [
    {
     "name": "stdout",
     "output_type": "stream",
     "text": [
      "Welcome to the Electron Flux Calculator for Specified Fluence!\n"
     ]
    },
    {
     "name": "stdin",
     "output_type": "stream",
     "text": [
      "Enter the desired fluence in electrons per square angstrom (e⁻/Å²):  5400\n",
      "Enter the scan area in angstroms squared (Å²):  2755600\n",
      "Enter the scan time in seconds:  11.52\n",
      "Enter the number of scans:  1\n"
     ]
    },
    {
     "name": "stdout",
     "output_type": "stream",
     "text": [
      "\n",
      "To achieve a fluence of 5.40e+03 electrons per square angstrom (e⁻/Å²) over 1 scans,\n",
      "you need a flux of 1.29e+09 electrons per second per square angstrom (e⁻/s/Å²).\n"
     ]
    }
   ],
   "source": [
    "def calculate_required_flux(desired_fluence, scan_area, scan_time, num_scans):\n",
    "    \"\"\"\n",
    "    Calculate the required flux (electrons per second per square angstrom) to achieve a specified fluence.\n",
    "    \n",
    "    Parameters:\n",
    "    - desired_fluence (float): The desired fluence (in electrons per square angstrom, e⁻/Å²).\n",
    "    - scan_area (float): The area of the scan in angstroms squared (Å²).\n",
    "    - scan_time (float): The scan time in seconds.\n",
    "    - num_scans (int): The total number of scans.\n",
    "    \n",
    "    Returns:\n",
    "    - required_flux (float): The required flux in electrons per second per square angstrom (e⁻/s/Å²).\n",
    "    \"\"\"\n",
    "    required_flux = (desired_fluence * scan_area) / (scan_time * num_scans)\n",
    "    return required_flux\n",
    "\n",
    "# Main function to interact with the user and calculate required flux\n",
    "def electron_flux_calculator_for_fluence():\n",
    "    print(\"Welcome to the Electron Flux Calculator for Specified Fluence!\")\n",
    "    \n",
    "    # Get user inputs\n",
    "    desired_fluence = float(input(\"Enter the desired fluence in electrons per square angstrom (e⁻/Å²): \"))\n",
    "    scan_area = float(input(\"Enter the scan area in angstroms squared (Å²): \"))\n",
    "    scan_time = float(input(\"Enter the scan time in seconds: \"))\n",
    "    num_scans = int(input(\"Enter the number of scans: \"))\n",
    "    \n",
    "    # Calculate the required flux to achieve the desired fluence\n",
    "    required_flux = calculate_required_flux(desired_fluence, scan_area, scan_time, num_scans)\n",
    "    \n",
    "    # Output the result\n",
    "    print(f\"\\nTo achieve a fluence of {desired_fluence:.2e} electrons per square angstrom (e⁻/Å²) over {num_scans} scans,\")\n",
    "    print(f\"you need a flux of {required_flux:.2e} electrons per second per square angstrom (e⁻/s/Å²).\")\n",
    "\n",
    "# Run the calculator\n",
    "if __name__ == \"__main__\":\n",
    "    electron_flux_calculator_for_fluence()\n"
   ]
  },
  {
   "cell_type": "code",
   "execution_count": null,
   "id": "90525e67-b7b4-485f-bf1f-e24cadb924d1",
   "metadata": {},
   "outputs": [],
   "source": []
  }
 ],
 "metadata": {
  "kernelspec": {
   "display_name": "Python 3 (ipykernel) [DLS Conda]",
   "language": "python",
   "name": "conda-env-DLS_Conda-python3"
  },
  "language_info": {
   "codemirror_mode": {
    "name": "ipython",
    "version": 3
   },
   "file_extension": ".py",
   "mimetype": "text/x-python",
   "name": "python",
   "nbconvert_exporter": "python",
   "pygments_lexer": "ipython3",
   "version": "3.11.10"
  }
 },
 "nbformat": 4,
 "nbformat_minor": 5
}
