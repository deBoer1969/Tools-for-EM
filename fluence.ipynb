{
 "cells": [
  {
   "cell_type": "code",
   "execution_count": 10,
   "id": "cde16d31-40a0-42b2-896b-6795833b612d",
   "metadata": {},
   "outputs": [
    {
     "name": "stdout",
     "output_type": "stream",
     "text": [
      "Welcome to the Electron Fluence Calculator!\n"
     ]
    },
    {
     "name": "stdin",
     "output_type": "stream",
     "text": [
      "Enter the screen current (in nA or pA):  14\n",
      "Enter the current unit (nA or pA):  nA\n",
      "Enter the scan area in angstroms squared (Å²):  2755600\n",
      "Enter the scan time in seconds:  20\n"
     ]
    },
    {
     "name": "stdout",
     "output_type": "stream",
     "text": [
      "\n",
      "The electron fluence is: 6.34e+05 electrons per square angstrom (e⁻/Å²)\n"
     ]
    }
   ],
   "source": [
    "def calculate_fluence(current, current_unit, scan_area, scan_time):\n",
    "    \"\"\"\n",
    "    Calculate the electron fluence given the current, current unit, scan area, and scan time.\n",
    "    \n",
    "    Parameters:\n",
    "    - current (float): The screen current in nA or pA.\n",
    "    - current_unit (str): The unit of current ('nA' or 'pA').\n",
    "    - scan_area (float): The area of the scan in angstroms squared (Å²).\n",
    "    - scan_time (float): The scan time in seconds.\n",
    "    \n",
    "    Returns:\n",
    "    - fluence (float): The calculated electron fluence in electrons per square angstrom (e⁻/Å²).\n",
    "    \"\"\"\n",
    "    \n",
    "    # Convert current to Amps\n",
    "    if current_unit == 'nA':\n",
    "        current_in_amps = current * 1e-9\n",
    "    elif current_unit == 'pA':\n",
    "        current_in_amps = current * 1e-12\n",
    "    else:\n",
    "        raise ValueError(\"Current unit must be 'nA' or 'pA'\")\n",
    "    \n",
    "    # Charge of one electron in Coulombs (C)\n",
    "    e = 1.602e-19\n",
    "    \n",
    "    # Calculate number of electrons per second\n",
    "    electrons_per_second = current_in_amps / e\n",
    "    \n",
    "    # Calculate the number of electrons over the scan time\n",
    "    total_electrons = electrons_per_second * scan_time\n",
    "    \n",
    "    # Calculate the fluence\n",
    "    fluence = total_electrons / scan_area  # Scan area in angstroms squared\n",
    "    \n",
    "    return fluence\n",
    "\n",
    "# Main function to interact with the user and calculate fluence\n",
    "def electron_fluence_calculator():\n",
    "    print(\"Welcome to the Electron Fluence Calculator!\")\n",
    "    \n",
    "    # Get user inputs\n",
    "    current = float(input(\"Enter the screen current (in nA or pA): \"))\n",
    "    current_unit = input(\"Enter the current unit (nA or pA): \").strip()\n",
    "    scan_area = float(input(\"Enter the scan area in angstroms squared (Å²): \"))\n",
    "    scan_time = float(input(\"Enter the scan time in seconds: \"))\n",
    "    \n",
    "    # Calculate fluence\n",
    "    fluence = calculate_fluence(current, current_unit, scan_area, scan_time)\n",
    "    \n",
    "    # Output the result\n",
    "    print(f\"\\nThe electron fluence is: {fluence:.2e} electrons per square angstrom (e⁻/Å²)\")\n",
    "    \n",
    "# Run the calculator\n",
    "if __name__ == \"__main__\":\n",
    "    electron_fluence_calculator()\n"
   ]
  },
  {
   "cell_type": "code",
   "execution_count": null,
   "id": "86531fe8-930d-404e-80e4-a325807f931b",
   "metadata": {},
   "outputs": [],
   "source": []
  }
 ],
 "metadata": {
  "kernelspec": {
   "display_name": "Python 3 (ipykernel) [DLS Conda]",
   "language": "python",
   "name": "conda-env-DLS_Conda-python3"
  },
  "language_info": {
   "codemirror_mode": {
    "name": "ipython",
    "version": 3
   },
   "file_extension": ".py",
   "mimetype": "text/x-python",
   "name": "python",
   "nbconvert_exporter": "python",
   "pygments_lexer": "ipython3",
   "version": "3.11.10"
  }
 },
 "nbformat": 4,
 "nbformat_minor": 5
}
